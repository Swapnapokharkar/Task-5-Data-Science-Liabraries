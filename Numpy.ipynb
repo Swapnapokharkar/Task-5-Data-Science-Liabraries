{
  "nbformat": 4,
  "nbformat_minor": 0,
  "metadata": {
    "colab": {
      "name": "Numpy.ipynb",
      "provenance": [],
      "authorship_tag": "ABX9TyPTBdqc8gPPuZFxWZrGyHoD",
      "include_colab_link": true
    },
    "kernelspec": {
      "name": "python3",
      "display_name": "Python 3"
    },
    "language_info": {
      "name": "python"
    }
  },
  "cells": [
    {
      "cell_type": "markdown",
      "metadata": {
        "id": "view-in-github",
        "colab_type": "text"
      },
      "source": [
        "<a href=\"https://colab.research.google.com/github/Swapnapokharkar/Task-5-Data-Science-Liabraries/blob/main/Numpy.ipynb\" target=\"_parent\"><img src=\"https://colab.research.google.com/assets/colab-badge.svg\" alt=\"Open In Colab\"/></a>"
      ]
    },
    {
      "cell_type": "code",
      "execution_count": 1,
      "metadata": {
        "colab": {
          "base_uri": "https://localhost:8080/"
        },
        "id": "nXjDjXTg6PYq",
        "outputId": "89a8c864-a467-4d25-e183-ca2d99916bd8"
      },
      "outputs": [
        {
          "output_type": "stream",
          "name": "stdout",
          "text": [
            "Array elements in sorted order:\n",
            " [-1  0  1  2  3  4  4  5  6]\n"
          ]
        }
      ],
      "source": [
        "##1st program sorted array\n",
        "#importing Numpy Library\n",
        "\n",
        "import numpy as np\n",
        "a = np.array([[1, 4, 2],\n",
        "             [3, 4, 6],\n",
        "             [0, -1, 5]])\n",
        "print (\"Array elements in sorted order:\\n\",np.sort(a, axis = None))"
      ]
    },
    {
      "cell_type": "code",
      "source": [
        "#2nd program Exponent value of array\n",
        "#importing Numpy Library\n",
        "\n",
        "import numpy as np\n",
        "a = np.array([0, 1, 2, 3])\n",
        "print (\"Exponent of array elements:\",np.exp(a))"
      ],
      "metadata": {
        "colab": {
          "base_uri": "https://localhost:8080/"
        },
        "id": "d6Mw4XJh6mu_",
        "outputId": "50a39133-9746-4c40-f50c-cb227148606e"
      },
      "execution_count": 2,
      "outputs": [
        {
          "output_type": "stream",
          "name": "stdout",
          "text": [
            "Exponent of array elements: [ 1.          2.71828183  7.3890561  20.08553692]\n"
          ]
        }
      ]
    },
    {
      "cell_type": "code",
      "source": [
        "#3rd program modify existing array\n",
        "#importing Numpy Library\n",
        "\n",
        "import numpy as np\n",
        "a = np.array([1, 2, 5, 3])\n",
        "a *= 2\n",
        "print (\"Doubled each element of original array:\", a)"
      ],
      "metadata": {
        "colab": {
          "base_uri": "https://localhost:8080/"
        },
        "id": "_ae6S2K96s-a",
        "outputId": "f8697d03-0a25-439d-c8ea-8af375786167"
      },
      "execution_count": 3,
      "outputs": [
        {
          "output_type": "stream",
          "name": "stdout",
          "text": [
            "Doubled each element of original array: [ 2  4 10  6]\n"
          ]
        }
      ]
    },
    {
      "cell_type": "code",
      "source": [
        "#4th program to maximum & minimum elements of array \n",
        "#importing Numpy Library\n",
        "\n",
        "import numpy as np\n",
        "array = np.array([[1, 5, 6],\n",
        "               [4, 7, 2],\n",
        "               [3, 1, 8]])\n",
        "print (\"Largest element is:\", array.max())\n",
        "print (\"Row wise maximum elements:\",array.min(axis = 0))\n",
        "print (\"Column wise minimum elements:\", array.min(axis = 0))\n"
      ],
      "metadata": {
        "colab": {
          "base_uri": "https://localhost:8080/"
        },
        "id": "JM2-wqyz62_g",
        "outputId": "76ab6d41-a4ec-470c-f4d6-09204a82f293"
      },
      "execution_count": 4,
      "outputs": [
        {
          "output_type": "stream",
          "name": "stdout",
          "text": [
            "Largest element is: 8\n",
            "Row wise maximum elements: [1 1 2]\n",
            "Column wise minimum elements: [1 1 2]\n"
          ]
        }
      ]
    },
    {
      "cell_type": "code",
      "source": [
        "#5th program slicing array\n",
        "#importing Numpy Library\n",
        "\n",
        "import numpy as np\n",
        "array = np.array([[-1, 2, 0, 4],\n",
        "               [4, -0.5, 6, 0],\n",
        "               [2.6, 0, 7, 8],\n",
        "               [3, -7, 4, 2.0]])\n",
        "                \n",
        "temp = array[:2, ::2]\n",
        "print (\"array with first 2 rows and alternate\" \"columns(0 and 2):\\n\", temp)\n",
        "cond = array > 0\n",
        "temp = array[cond]\n",
        "print (\"\\n Elements greater than 0:\\n\", temp)"
      ],
      "metadata": {
        "colab": {
          "base_uri": "https://localhost:8080/"
        },
        "id": "tt-8F62_7Ciu",
        "outputId": "d56e13a9-1fc1-4d20-ce94-051e7fffa9a9"
      },
      "execution_count": 5,
      "outputs": [
        {
          "output_type": "stream",
          "name": "stdout",
          "text": [
            "array with first 2 rows and alternatecolumns(0 and 2):\n",
            " [[-1.  0.]\n",
            " [ 4.  6.]]\n",
            "\n",
            " Elements greater than 0:\n",
            " [2.  4.  4.  6.  2.6 7.  8.  3.  4.  2. ]\n"
          ]
        }
      ]
    },
    {
      "cell_type": "code",
      "source": [
        "#6th program Creating array from Touple with type float\n",
        "#importing Numpy Library\n",
        "\n",
        "import numpy as np \n",
        "b = np.array((1 , 5, 3))\n",
        "print (\"array created using passed tuple:\\n\", b)"
      ],
      "metadata": {
        "colab": {
          "base_uri": "https://localhost:8080/"
        },
        "id": "ATBdlidv7T7s",
        "outputId": "011740e2-74e5-4d88-e003-61017badf81e"
      },
      "execution_count": 6,
      "outputs": [
        {
          "output_type": "stream",
          "name": "stdout",
          "text": [
            "array created using passed tuple:\n",
            " [1 5 3]\n"
          ]
        }
      ]
    },
    {
      "cell_type": "code",
      "source": [
        "#7th program Creating array from list with type float\n",
        "#importing Numpy Library\n",
        "\n",
        "import numpy as np\n",
        "a = np.array([[1, 3, 5], [4, 7, 7]], dtype = 'float')\n",
        "print (\"Array created using passed list:\\n\", a)"
      ],
      "metadata": {
        "colab": {
          "base_uri": "https://localhost:8080/"
        },
        "id": "JZNb23v37deA",
        "outputId": "921261c7-52ca-4a35-c78b-2a49ad9da697"
      },
      "execution_count": 7,
      "outputs": [
        {
          "output_type": "stream",
          "name": "stdout",
          "text": [
            "Array created using passed list:\n",
            " [[1. 2. 4.]\n",
            " [5. 8. 7.]]\n"
          ]
        }
      ]
    },
    {
      "cell_type": "code",
      "source": [
        "#8th program to create Array & print shape\n",
        "#importing Numpy Library\n",
        "\n",
        "import numpy as np\n",
        "array = np.array([[1, 2, 3, 4], [5, 6, 7, 8]])\n",
        "print(\"Array is of type: \", type(array))\n",
        "print(\"Shape of array: \", array.shape)"
      ],
      "metadata": {
        "colab": {
          "base_uri": "https://localhost:8080/"
        },
        "id": "FEaPatq17pDy",
        "outputId": "76d9a861-02d0-4928-d16e-58d9afa6038e"
      },
      "execution_count": 8,
      "outputs": [
        {
          "output_type": "stream",
          "name": "stdout",
          "text": [
            "Array is of type:  <class 'numpy.ndarray'>\n",
            "Shape of array:  (2, 4)\n"
          ]
        }
      ]
    }
  ]
}