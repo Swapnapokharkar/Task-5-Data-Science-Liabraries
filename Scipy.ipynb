{
  "nbformat": 4,
  "nbformat_minor": 0,
  "metadata": {
    "colab": {
      "name": "Scipy.ipynb",
      "provenance": [],
      "authorship_tag": "ABX9TyMoSDFrGSrEwRR5LewAKknk",
      "include_colab_link": true
    },
    "kernelspec": {
      "name": "python3",
      "display_name": "Python 3"
    },
    "language_info": {
      "name": "python"
    }
  },
  "cells": [
    {
      "cell_type": "markdown",
      "metadata": {
        "id": "view-in-github",
        "colab_type": "text"
      },
      "source": [
        "<a href=\"https://colab.research.google.com/github/Swapnapokharkar/Task-5-Data-Science-Liabraries/blob/main/Scipy.ipynb\" target=\"_parent\"><img src=\"https://colab.research.google.com/assets/colab-badge.svg\" alt=\"Open In Colab\"/></a>"
      ]
    },
    {
      "cell_type": "code",
      "execution_count": 1,
      "metadata": {
        "colab": {
          "base_uri": "https://localhost:8080/"
        },
        "id": "YMjh43CMK2wi",
        "outputId": "985b0cdb-2b37-43c9-d4da-1fac6cf624a8"
      },
      "outputs": [
        {
          "output_type": "stream",
          "name": "stdout",
          "text": [
            "[ 9.+0.j -1.+0.j]\n",
            "[[ 0.70710678 -0.5547002 ]\n",
            " [ 0.70710678  0.83205029]]\n"
          ]
        }
      ],
      "source": [
        "# Eigenvalues and Eigenvector\n",
        "from scipy import linalg\n",
        "import numpy as np\n",
        "#define two dimensional array\n",
        "arr = np.array([[5,4],[6,3]])\n",
        "#pass value into function\n",
        "eg_val, eg_vect = linalg.eig(arr)\n",
        "#get eigenvalues\n",
        "print(eg_val)\n",
        "#get eigenvectors\n",
        "print(eg_vect)"
      ]
    },
    {
      "cell_type": "code",
      "source": [
        "#Exponential Function:\n",
        "#Exponential function computes the 10**x element-wise.\n",
        "\n",
        "from scipy.special import exp10\n",
        "#define exp10 function and pass value in its\n",
        "exp = exp10([1,10])\n",
        "print(exp)"
      ],
      "metadata": {
        "colab": {
          "base_uri": "https://localhost:8080/"
        },
        "id": "TYdVmWw8L8gi",
        "outputId": "ca228bd8-9561-4795-900d-1d2c8d4a6ffb"
      },
      "execution_count": 4,
      "outputs": [
        {
          "output_type": "stream",
          "name": "stdout",
          "text": [
            "[1.e+01 1.e+10]\n"
          ]
        }
      ]
    },
    {
      "cell_type": "code",
      "source": [
        "#Cubic Root Function:\n",
        "#Cubic Root function finds the cube root of values.\n",
        "\n",
        "from scipy.special import cbrt\n",
        "#Find cubic root of 27 & 64 using cbrt() function\n",
        "cb = cbrt([27, 64])\n",
        "#print value of cb\n",
        "print(cb)"
      ],
      "metadata": {
        "colab": {
          "base_uri": "https://localhost:8080/"
        },
        "id": "NOlIKRZdMBxs",
        "outputId": "89981ed4-f1c2-4124-89e7-c3dfb776eed8"
      },
      "execution_count": 5,
      "outputs": [
        {
          "output_type": "stream",
          "name": "stdout",
          "text": [
            "[3. 4.]\n"
          ]
        }
      ]
    },
    {
      "cell_type": "code",
      "source": [
        "#Write a Program to demonstrate Density plot\n",
        "# Density Plot\n",
        "import numpy as np\n",
        "import matplotlib.pyplot as plt\n",
        "from scipy.stats import kde\n",
        "\n",
        "data = [2,3,3,4,2,1,5,6,4,3,3,3,6,4,5,4,3,2]\n",
        "density = kde.gaussian_kde(data)\n",
        "x = np.linspace(-2,10,300)\n",
        "y=density(x)\n",
        "plt.plot(x,y)\n",
        "plt.title(\"Density Plot of the data\")\n",
        "plt.show()"
      ],
      "metadata": {
        "colab": {
          "base_uri": "https://localhost:8080/",
          "height": 281
        },
        "id": "5XOMgH4dMI9H",
        "outputId": "8c9af11e-c636-451f-ef7a-30ba56151ba1"
      },
      "execution_count": 6,
      "outputs": [
        {
          "output_type": "display_data",
          "data": {
            "image/png": "[encoded data removed]",
            "text/plain": [
              "<Figure size 432x288 with 1 Axes>"
            ]
          },
          "metadata": {
            "needs_background": "light"
          }
        }
      ]
    },
    {
      "cell_type": "code",
      "source": [
        "#Write a program to calculate integral\n",
        "import scipy\n",
        "from numpy import exp  \n",
        "f= lambda x:exp(-x**2)  \n",
        "i = scipy.integrate.quad(f, 0, 1)  \n",
        "print(i)"
      ],
      "metadata": {
        "colab": {
          "base_uri": "https://localhost:8080/"
        },
        "id": "cAOoqwJgMnnv",
        "outputId": "23157dab-999d-4936-f8cb-2ba113746d44"
      },
      "execution_count": 9,
      "outputs": [
        {
          "output_type": "stream",
          "name": "stdout",
          "text": [
            "(0.7468241328124271, 8.291413475940725e-15)\n"
          ]
        }
      ]
    }
  ]
}