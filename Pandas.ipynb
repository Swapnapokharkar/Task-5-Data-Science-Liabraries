{
  "nbformat": 4,
  "nbformat_minor": 0,
  "metadata": {
    "colab": {
      "name": "Pandas.ipynb",
      "provenance": [],
      "authorship_tag": "ABX9TyP+mD6nN0I/Ohq/rvsOdHz9",
      "include_colab_link": true
    },
    "kernelspec": {
      "name": "python3",
      "display_name": "Python 3"
    },
    "language_info": {
      "name": "python"
    }
  },
  "cells": [
    {
      "cell_type": "markdown",
      "metadata": {
        "id": "view-in-github",
        "colab_type": "text"
      },
      "source": [
        "<a href=\"https://colab.research.google.com/github/Swapnapokharkar/Task-5-Data-Science-Liabraries/blob/main/Pandas.ipynb\" target=\"_parent\"><img src=\"https://colab.research.google.com/assets/colab-badge.svg\" alt=\"Open In Colab\"/></a>"
      ]
    },
    {
      "cell_type": "code",
      "execution_count": 2,
      "metadata": {
        "colab": {
          "base_uri": "https://localhost:8080/"
        },
        "id": "vjbBO-wYA6ez",
        "outputId": "7cc5e57e-1c08-4a91-9558-8da4be6750da"
      },
      "outputs": [
        {
          "output_type": "execute_result",
          "data": {
            "text/plain": [
              "2020-01-21    1\n",
              "2020-01-22    2\n",
              "2020-01-23    3\n",
              "2020-01-24    4\n",
              "2020-01-25    5\n",
              "2020-01-26    6\n",
              "Freq: D, dtype: int64"
            ]
          },
          "metadata": {},
          "execution_count": 2
        }
      ],
      "source": [
        "#Program to set a  column automatically aligns the data by the index.\n",
        "import pandas as pd\n",
        "s1 = pd.Series([1, 2, 3, 4, 5, 6], index=pd.date_range(\"20200121\", periods=6))\n",
        "\n",
        "s1\n"
      ]
    },
    {
      "cell_type": "code",
      "source": [
        "#Program to set a  column automatically aligns the data by the index.\n",
        "import pandas as pd\n",
        "s1 = pd.Series([1, 2, 3, 4, 5, 6], index=pd.date_range(\"20211115\", periods=6))\n",
        "\n",
        "s1"
      ],
      "metadata": {
        "colab": {
          "base_uri": "https://localhost:8080/"
        },
        "id": "wEApeipXCJHs",
        "outputId": "49b6b118-f9b7-4cfe-c976-52170ca8ad8c"
      },
      "execution_count": 3,
      "outputs": [
        {
          "output_type": "execute_result",
          "data": {
            "text/plain": [
              "2021-11-15    1\n",
              "2021-11-16    2\n",
              "2021-11-17    3\n",
              "2021-11-18    4\n",
              "2021-11-19    5\n",
              "2021-11-20    6\n",
              "Freq: D, dtype: int64"
            ]
          },
          "metadata": {},
          "execution_count": 3
        }
      ]
    },
    {
      "cell_type": "code",
      "source": [
        "#Creating Labels\n",
        "import pandas as pd\n",
        "a = [20,30,40]\n",
        "myvar3 = pd.Series(a, index = [\"x\",\"y\",\"z\"])\n",
        "print(myvar3)\n",
        "print(myvar3[\"x\"])\n",
        "print(myvar3[\"z\"])\n"
      ],
      "metadata": {
        "colab": {
          "base_uri": "https://localhost:8080/"
        },
        "id": "KnRWBzPbDJOm",
        "outputId": "c3116948-9319-45de-9a50-cc7ce061ef3a"
      },
      "execution_count": 11,
      "outputs": [
        {
          "output_type": "stream",
          "name": "stdout",
          "text": [
            "x    20\n",
            "y    30\n",
            "z    40\n",
            "dtype: int64\n",
            "20\n",
            "40\n"
          ]
        }
      ]
    },
    {
      "cell_type": "code",
      "source": [
        "#Create a simple Pandas DataFrame:\n",
        "import pandas as pd\n",
        "data = {\"calories\": [420, 380, 390],\n",
        "        \"duration\": [50, 40, 45] }\n",
        "\n",
        "df = pd.DataFrame(data)\n",
        "\n",
        "print(df)"
      ],
      "metadata": {
        "colab": {
          "base_uri": "https://localhost:8080/"
        },
        "id": "JDizb955ETa-",
        "outputId": "e2658cf0-b65a-40f4-c9cf-0b99e04a37c2"
      },
      "execution_count": 12,
      "outputs": [
        {
          "output_type": "stream",
          "name": "stdout",
          "text": [
            "   calories  duration\n",
            "0       420        50\n",
            "1       380        40\n",
            "2       390        45\n"
          ]
        }
      ]
    },
    {
      "cell_type": "code",
      "source": [
        "import pandas as pd\n",
        "items=[['Phone',15000],['TV',25000],['Radio',1000]]\n",
        "df=pd.DataFrame(items,columns=['item','Price'],dtype=float)\n",
        "print(df)"
      ],
      "metadata": {
        "colab": {
          "base_uri": "https://localhost:8080/"
        },
        "id": "Mdd6t12xEbRm",
        "outputId": "2d7ff83e-a93e-45aa-cae9-0b7802b1f4ee"
      },
      "execution_count": 13,
      "outputs": [
        {
          "output_type": "stream",
          "name": "stdout",
          "text": [
            "    item    Price\n",
            "0  Phone  15000.0\n",
            "1     TV  25000.0\n",
            "2  Radio   1000.0\n"
          ]
        },
        {
          "output_type": "stream",
          "name": "stderr",
          "text": [
            "/usr/local/lib/python3.7/dist-packages/IPython/core/interactiveshell.py:2882: FutureWarning: Could not cast to float64, falling back to object. This behavior is deprecated. In a future version, when a dtype is passed to 'DataFrame', either all columns will be cast to that dtype, or a TypeError will be raised\n",
            "  exec(code_obj, self.user_global_ns, self.user_ns)\n"
          ]
        }
      ]
    },
    {
      "cell_type": "code",
      "source": [
        "import pandas as pd\n",
        "import numpy as np\n",
        "import sys\n",
        "sys.stdout=sys.stdout\n",
        "fruits=np.array(['Pear','Mango','Banana','Chiku'])\n",
        "series1=pd.Series(fruits)\n",
        "print(series1)"
      ],
      "metadata": {
        "colab": {
          "base_uri": "https://localhost:8080/"
        },
        "id": "isCx_A_NEnwA",
        "outputId": "cf3b2fc4-c5c7-41a3-b650-4d45d08c431b"
      },
      "execution_count": 14,
      "outputs": [
        {
          "output_type": "stream",
          "name": "stdout",
          "text": [
            "0      Pear\n",
            "1     Mango\n",
            "2    Banana\n",
            "3     Chiku\n",
            "dtype: object\n"
          ]
        }
      ]
    },
    {
      "cell_type": "code",
      "source": [
        "import pandas as pd\n",
        "df=pd.DataFrame({'X':[76,56,79,70,65],'Y':[87,54,69,88,89],'Z':[76,97,77,72,40]})\n",
        "print(df)"
      ],
      "metadata": {
        "colab": {
          "base_uri": "https://localhost:8080/"
        },
        "id": "EgnSSzmcE4J5",
        "outputId": "6da08b51-01f0-421a-8cb1-4221afa9375d"
      },
      "execution_count": 15,
      "outputs": [
        {
          "output_type": "stream",
          "name": "stdout",
          "text": [
            "    X   Y   Z\n",
            "0  76  87  76\n",
            "1  56  54  97\n",
            "2  79  69  77\n",
            "3  70  88  72\n",
            "4  65  89  40\n"
          ]
        }
      ]
    },
    {
      "cell_type": "code",
      "source": [
        "a =[ 1,9,3]\n",
        "myvar1 = pd.Series(a)\n",
        "print(myvar1)"
      ],
      "metadata": {
        "colab": {
          "base_uri": "https://localhost:8080/"
        },
        "id": "uc_jbJFKE4Os",
        "outputId": "0f4e4d7b-7bec-4f90-a878-7524cf42e1e6"
      },
      "execution_count": 16,
      "outputs": [
        {
          "output_type": "stream",
          "name": "stdout",
          "text": [
            "0    1\n",
            "1    9\n",
            "2    3\n",
            "dtype: int64\n"
          ]
        }
      ]
    }
  ]
}